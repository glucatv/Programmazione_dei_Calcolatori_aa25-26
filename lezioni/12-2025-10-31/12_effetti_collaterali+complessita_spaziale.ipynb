{
 "cells": [
  {
   "cell_type": "markdown",
   "id": "b39634d6",
   "metadata": {},
   "source": [
    "# Soluzione esercizi\n",
    "\n",
    "**Esercizio 1.** Scrivere la docstring della seguente funzione:\n",
    "\n",
    "```python\n",
    "    def argmax(L):\n",
    "\n",
    "        cur_max, pos = None, None\n",
    "        \n",
    "        for i, x in enumerate(L):\n",
    "            if  cur_max == None or x > cur_max:\n",
    "                cur_max, pos = x, i\n",
    "\n",
    "        return pos\n",
    "```"
   ]
  },
  {
   "cell_type": "markdown",
   "id": "40d25ac0",
   "metadata": {},
   "source": [
    "**Prima versione**"
   ]
  },
  {
   "cell_type": "code",
   "execution_count": 2,
   "id": "2107a7d2",
   "metadata": {},
   "outputs": [],
   "source": [
    "def argmax(L):\n",
    "    \"\"\"\n",
    "    Parametri: L, lista di numeri\n",
    "    Ritorna: la posizione del massimo in L\n",
    "    \"\"\"\n",
    "\n",
    "    cur_max, pos = None, None\n",
    "    \n",
    "    for i, x in enumerate(L):\n",
    "        if  cur_max == None or x > cur_max:\n",
    "            cur_max, pos = x, i\n",
    "\n",
    "    return pos"
   ]
  },
  {
   "cell_type": "code",
   "execution_count": null,
   "id": "150acd16",
   "metadata": {},
   "outputs": [
    {
     "name": "stdout",
     "output_type": "stream",
     "text": [
      "1\n"
     ]
    }
   ],
   "source": [
    "a =  [\"sette\", \"Zero\", \"uno\", \"sei\", \"due\", \"tre\", \"quattro\"]\n",
    "print( argmax(a) )"
   ]
  },
  {
   "cell_type": "code",
   "execution_count": 5,
   "id": "1fbc3bd2",
   "metadata": {},
   "outputs": [
    {
     "name": "stdout",
     "output_type": "stream",
     "text": [
      "False\n"
     ]
    }
   ],
   "source": [
    "print(\"sei\" > \"sette\")"
   ]
  },
  {
   "cell_type": "code",
   "execution_count": 6,
   "id": "d4ac548a",
   "metadata": {},
   "outputs": [
    {
     "name": "stdout",
     "output_type": "stream",
     "text": [
      "True\n"
     ]
    }
   ],
   "source": [
    "print(\"una\" < \"unario\")"
   ]
  },
  {
   "cell_type": "code",
   "execution_count": 7,
   "id": "22f86c95",
   "metadata": {},
   "outputs": [
    {
     "name": "stdout",
     "output_type": "stream",
     "text": [
      "False\n"
     ]
    }
   ],
   "source": [
    "print(\"una\" < \"Unario\")"
   ]
  },
  {
   "cell_type": "markdown",
   "id": "f356e04c",
   "metadata": {},
   "source": [
    "Il confronto tra stringhe obbedisce all'ordinamento lessicografico (codifica ASCII). Quindi l'operatore `>` è definito anche tra altri tipi di dato, non necessariamente numerici.\n",
    "\n",
    "**Seconda versione**"
   ]
  },
  {
   "cell_type": "code",
   "execution_count": 3,
   "id": "7c9bd403",
   "metadata": {},
   "outputs": [],
   "source": [
    "def argmax(L):\n",
    "    \"\"\"\n",
    "    Parametri: L, lista di elementi tutti confrontabili con >\n",
    "    Ritorna: la posizione del massimo in L\n",
    "    \"\"\"\n",
    "\n",
    "    cur_max, pos = None, None\n",
    "    \n",
    "    for i, x in enumerate(L):\n",
    "        if  cur_max == None or x > cur_max:\n",
    "            cur_max, pos = x, i\n",
    "\n",
    "    return pos"
   ]
  },
  {
   "cell_type": "markdown",
   "id": "9d6944da",
   "metadata": {},
   "source": [
    "Se\n",
    "\n",
    "```python\n",
    "a =  [\"sette\", 0, \"uno\", \"sei\", \"due\", \"tre\", \"quattro\"]\n",
    "```\n",
    "\n",
    "l'esecuzione di `argmax(a)` non rispetta le specifiche perché `a` contiene elementi non confrontabili"
   ]
  },
  {
   "cell_type": "markdown",
   "id": "b2e6d157",
   "metadata": {},
   "source": [
    "**Esercizio 2.** Scrivere una funzione che abbia la seguente specifica\n",
    "\n",
    "```python\n",
    "    def second_max( L ):\n",
    "        \"\"\"\n",
    "        Parametri: L una lista di numeri\n",
    "        \n",
    "        Ritorna il secondo valore più grande della lista L;\n",
    "        se la lista contiene almeno due elementi, None altrimenti.\n",
    "        \n",
    "        Nel caso di due massimi, la funzione ritorna il massimo\n",
    "\n",
    "        Esempi:\n",
    "        \n",
    "        se L = [3, 1, 4, 2, 0], la funzione ritorna 3\n",
    "        se L = [3, 1, 4, 2, 4], la funzione ritorna 4\n",
    "\n",
    "        \"\"\"\n",
    "```"
   ]
  },
  {
   "cell_type": "code",
   "execution_count": 4,
   "id": "fce75e20",
   "metadata": {},
   "outputs": [],
   "source": [
    "def second_max( L ):\n",
    "        \"\"\"\n",
    "        Parametri: L una lista di numeri\n",
    "        \n",
    "        Ritorna il secondo valore più grande della lista L;\n",
    "        se la lista contiene almeno due elementi, None altrimenti.\n",
    "        \n",
    "        Nel caso di due massimi, la funzione ritorna il massimo\n",
    "        \"\"\"\n",
    "        if len(L) >= 2:\n",
    "            p = argmax(L) # O(n) tempo; O(1) spazio extra\n",
    "            del(L[p])     # O(n) tempo nel caso peggiore; O(1) spazio extra\n",
    "            return max(L) # O(n) tempo; O(1) spazio extra\n",
    "       \n",
    "        # complessità temporale: O(n)\n",
    "        # complessità spaziale: O(1) <====== spazio extra\n",
    "        \n",
    "        return None"
   ]
  },
  {
   "cell_type": "code",
   "execution_count": 5,
   "id": "ac59f9a4",
   "metadata": {},
   "outputs": [
    {
     "name": "stdout",
     "output_type": "stream",
     "text": [
      "3\n",
      "[3, 1, 2, 0]\n"
     ]
    }
   ],
   "source": [
    "a = [3, 1, 4, 2, 0]\n",
    "print( second_max(a) )\n",
    "print(a)"
   ]
  },
  {
   "cell_type": "markdown",
   "id": "55e9799c",
   "metadata": {},
   "source": [
    "ATTENZIONE: la funzione non rispetta la specifica; ha **effetti collaterali** perché modifica la lista di input.\n",
    "\n",
    "Soluzione, clonare la lista di input."
   ]
  },
  {
   "cell_type": "code",
   "execution_count": 6,
   "id": "cd38808f",
   "metadata": {},
   "outputs": [],
   "source": [
    "def second_max( L ):\n",
    "        \"\"\"\n",
    "        Parametri: L una lista di numeri\n",
    "        \n",
    "        Ritorna il secondo valore più grande della lista L;\n",
    "        se la lista contiene almeno due elementi, None altrimenti.\n",
    "        \n",
    "        Nel caso di due massimi, la funzione ritorna il massimo\n",
    "        \"\"\"\n",
    "        n = len(L)\n",
    "        if n >= 2:\n",
    "            L_c = L[:]       # O(n) tempo; O(n) spazio extra  \n",
    "            p = argmax(L_c)  # O(n) tempo; O(1) spazio extra\n",
    "            del(L_c[p])      # O(n) tempo nel caso peggiore; O(1) spazio extra\n",
    "            return max(L_c)  # O(n) tempo; O(1) spazio extra\n",
    "        \n",
    "        # complessità temporale: O(n)\n",
    "        # complessità spaziale: O(n) <====== spazio extra\n",
    "        \n",
    "        return None"
   ]
  },
  {
   "cell_type": "code",
   "execution_count": 8,
   "id": "9966230f",
   "metadata": {},
   "outputs": [
    {
     "name": "stdout",
     "output_type": "stream",
     "text": [
      "3\n",
      "[3, 1, 4, 2, 0]\n"
     ]
    }
   ],
   "source": [
    "a = [3, 1, 4, 2, 0]\n",
    "print( second_max(a) )\n",
    "print(a)"
   ]
  },
  {
   "cell_type": "markdown",
   "id": "e4b83f7e",
   "metadata": {},
   "source": [
    "## Complessità spaziale\n",
    "\n",
    "La soluzione precedente richiede l'utilizzo di una struttura dati la cui dimensione dipende dalla grandezza dell'input. In questo caso la soluzione richiede uno spazio extra lineare nella dimensione dell'input. Si dice che la **complessità spaziale** della soluzione è lineare."
   ]
  },
  {
   "cell_type": "code",
   "execution_count": null,
   "id": "8051deef",
   "metadata": {},
   "outputs": [],
   "source": [
    "def second_max( L ):\n",
    "        \"\"\"\n",
    "        Parametri: L una lista di numeri\n",
    "\n",
    "        Ritorna il secondo valore più grande della lista L;\n",
    "        se la lista contiene almeno due elementi, None altrimenti.\n",
    "\n",
    "        Nel caso di due massimi, la funzione ritorna il massimo\n",
    "        \"\"\"\n",
    "\n",
    "        n = len(L)\n",
    "        if n >= 2:\n",
    "                max1 = max(L[0], L[1])      # O(1) tempo; O(1) spazio extra\n",
    "                max2 = min(L[0], L[1])      # O(1) tempo; O(1) spazio extra\n",
    "                for x in L[2:]:             # per n-2 volte; O(n) spazio extra per slicing\n",
    "                        if x > max1:        # O(1) tempo; O(1) spazio extra\n",
    "                                max2 = max1\n",
    "                                max1 = x\n",
    "                        elif  x > max2:\n",
    "                                max2 = x\n",
    "                return max2\n",
    "        else:\n",
    "                return None\n",
    "        \n",
    "        # Complessità temporale: O(n)\n",
    "        # Complessità spaziale: O(n), togliendo slicing O(1)"
   ]
  },
  {
   "cell_type": "markdown",
   "id": "30572b67",
   "metadata": {},
   "source": [
    "Lo slicing non risolve il problema della memoria extra, meglio usare l'indicizzazione "
   ]
  },
  {
   "cell_type": "code",
   "execution_count": 13,
   "id": "fca1f1e8",
   "metadata": {},
   "outputs": [],
   "source": [
    "def second_max( L ):\n",
    "    \"\"\"\n",
    "    Parametri: L una lista di numeri\n",
    "\n",
    "    Ritorna il secondo valore più grande della lista L;\n",
    "    se la lista contiene almeno due elementi, None altrimenti.\n",
    "\n",
    "    Nel caso di due massimi, la funzione ritorna il massimo\n",
    "    \"\"\"\n",
    "\n",
    "    n = len(L)\n",
    "    if n >= 2:\n",
    "        max1 = max(L[0], L[1])      # O(1) tempo; O(1) spazio extra\n",
    "        max2 = min(L[0], L[1])      # O(1) tempo; O(1) spazio extra\n",
    "        i = 2\n",
    "        while i < n:                # per n-2 volte;\n",
    "            x = a[i]             \n",
    "            if x > max1:        # O(1) tempo; O(1) spazio extra\n",
    "                max2 = max1\n",
    "                max1 = x\n",
    "            elif  x > max2:\n",
    "                max2 = x\n",
    "            i += 1\n",
    "        return max2\n",
    "    else:\n",
    "        return None\n",
    "        \n",
    "        # Complessità temporale: O(n)\n",
    "        # Complessità spaziale:  O(1)"
   ]
  },
  {
   "cell_type": "code",
   "execution_count": 14,
   "id": "969ebef3",
   "metadata": {},
   "outputs": [
    {
     "name": "stdout",
     "output_type": "stream",
     "text": [
      "3\n",
      "[3, 1, 4, 2, 0]\n"
     ]
    }
   ],
   "source": [
    "a = [3, 1, 4, 2, 0]\n",
    "print( second_max(a) )\n",
    "print(a)"
   ]
  },
  {
   "cell_type": "markdown",
   "id": "a992dc5e",
   "metadata": {},
   "source": [
    "# Esercizio per il fine settima\n",
    "\n",
    "Implementare una funzione avente la seguente specifica\n",
    "\n",
    "```python\n",
    "    def intersezione(L0, L1):\n",
    "        \"\"\"\n",
    "        Parametri: L0 e L1, due liste\n",
    "        Ritorna una nuova lista contenente tutti i valori presenti sia in L0 che in L1;\n",
    "            la lista ritornata non contiene duplicati\n",
    "        \"\"\"\n",
    "```\n",
    "\n",
    "Analizzare la complessità temporale e spaziale della soluzione proposta."
   ]
  }
 ],
 "metadata": {
  "kernelspec": {
   "display_name": "base",
   "language": "python",
   "name": "python3"
  },
  "language_info": {
   "codemirror_mode": {
    "name": "ipython",
    "version": 3
   },
   "file_extension": ".py",
   "mimetype": "text/x-python",
   "name": "python",
   "nbconvert_exporter": "python",
   "pygments_lexer": "ipython3",
   "version": "3.12.11"
  }
 },
 "nbformat": 4,
 "nbformat_minor": 5
}
